{
 "cells": [
  {
   "cell_type": "code",
   "execution_count": 21,
   "metadata": {},
   "outputs": [
    {
     "name": "stdout",
     "output_type": "stream",
     "text": [
      "Finding all file names with .mp3...\n",
      "Prepping all sounds...\n",
      "Combining all sounds...\n",
      "Exporting audio...\n",
      "ffmpeg -f concat -safe 0 -i /Users/smerkley95/Desktop/TEST/The\\ Innovators\\ by\\ Walter\\ Isaacson_LIST.txt -c copy /Users/smerkley95/Desktop/TEST/The\\ Innovators\\ by\\ Walter\\ Isaacson.mp3\n"
     ]
    },
    {
     "ename": "AttributeError",
     "evalue": "'CompletedProcess' object has no attribute 'poll'",
     "output_type": "error",
     "traceback": [
      "\u001b[0;31m---------------------------------------------------------------------------\u001b[0m",
      "\u001b[0;31mAttributeError\u001b[0m                            Traceback (most recent call last)",
      "\u001b[0;32m<ipython-input-21-6a4ecbbf2227>\u001b[0m in \u001b[0;36m<module>\u001b[0;34m\u001b[0m\n\u001b[1;32m    105\u001b[0m \u001b[0;34m\u001b[0m\u001b[0m\n\u001b[1;32m    106\u001b[0m \u001b[0mcount\u001b[0m \u001b[0;34m=\u001b[0m \u001b[0;36m0\u001b[0m\u001b[0;34m\u001b[0m\u001b[0;34m\u001b[0m\u001b[0m\n\u001b[0;32m--> 107\u001b[0;31m \u001b[0;32mwhile\u001b[0m \u001b[0mp\u001b[0m\u001b[0;34m.\u001b[0m\u001b[0mpoll\u001b[0m\u001b[0;34m(\u001b[0m\u001b[0;34m)\u001b[0m \u001b[0;34m==\u001b[0m \u001b[0;32mNone\u001b[0m\u001b[0;34m:\u001b[0m\u001b[0;34m\u001b[0m\u001b[0;34m\u001b[0m\u001b[0m\n\u001b[0m\u001b[1;32m    108\u001b[0m     \u001b[0mtime\u001b[0m\u001b[0;34m.\u001b[0m\u001b[0msleep\u001b[0m\u001b[0;34m(\u001b[0m\u001b[0;36m10\u001b[0m\u001b[0;34m)\u001b[0m\u001b[0;34m\u001b[0m\u001b[0;34m\u001b[0m\u001b[0m\n\u001b[1;32m    109\u001b[0m     \u001b[0mprint\u001b[0m\u001b[0;34m(\u001b[0m\u001b[0;34mf\"Still processing... ({count} seconds)\"\u001b[0m\u001b[0;34m)\u001b[0m\u001b[0;34m\u001b[0m\u001b[0;34m\u001b[0m\u001b[0m\n",
      "\u001b[0;31mAttributeError\u001b[0m: 'CompletedProcess' object has no attribute 'poll'"
     ]
    }
   ],
   "source": [
    "# Audio Concatenator\n",
    "#\n",
    "# This program is for joining together multiple audio files in a folder. It will take in a folder name, check the folder for all the .mp3 files\n",
    "# and then concatenate them all together to make one big .mp3 file. This is mainly being used for audiobooks and concatenating the individual\n",
    "# files together into a single HUGE file.\n",
    "#\n",
    "# Special Notes: \n",
    "#   - You must have ffmpeg, ffprobe, and ffplay installed on your computer in order for this to work!\n",
    "#       - https://www.youtube.com/watch?v=H1o6MWnmwpY\n",
    "#\n",
    "# Bugs:\n",
    "#   - Only can convert less than 400MB of files? or some amount like that\n",
    "#       - Might have to call ffmpeg directly using system os! https://www.reddit.com/r/pythonhelp/comments/upu8y8/trouble_with_combining_large_audio_files_using/\n",
    "#       - Make a .txt file with a list of all the different files you make in the temp folder and then concatenate them together\n",
    "#\n",
    "# TODO:\n",
    "#   - Maybe to complete this i need to combine 1/4 of the files at a time at the 16000 quality in a different directory, then combine those files at full quality\n",
    "#     and export them to the original folder and delete the temp folder.\n",
    "#   - Make it be able to accept WAV files and see if it can convert larger file sizes for WAV\n",
    "#   - Make into a function / GUI that only takes in folderPath, exportFileName, and fileType\n",
    "#   - Upload to GitHub\n",
    "#   - Multithreading\n",
    "#   - ffmpeg might be WAY faster than pydub...\n",
    "#\n",
    "# @author  Scott Merkley\n",
    "# @version 20230511\n",
    "\n",
    "import os\n",
    "from os import listdir\n",
    "import subprocess\n",
    "import time\n",
    "import eyed3\n",
    "from eyed3.id3.frames import ImageFrame\n",
    "from pydub import AudioSegment\n",
    "from pydub.playback import play\n",
    "import numpy as np\n",
    "\n",
    "\n",
    "# User input\n",
    "folderPath = \"/Users/smerkley95/Desktop/TEST\"\n",
    "exportFileName = \"The Innovators by Walter Isaacson\"\n",
    "exportFormat = \"MP3\"\n",
    "coverImage = \"cover.jpg\"\n",
    "\n",
    "\n",
    "\n",
    "allFileNames = sorted(listdir(folderPath))\n",
    "\n",
    "print(\"Finding all file names with .mp3...\")\n",
    "allFileNamesWithMP3 = []\n",
    "for fileName in allFileNames:\n",
    "    if fileName[-4:] == \".mp3\":\n",
    "        allFileNamesWithMP3.append(fileName)\n",
    "\n",
    "\n",
    "print(\"Prepping all sounds...\")\n",
    "sounds = []\n",
    "for file in allFileNamesWithMP3:\n",
    "    sounds.append(AudioSegment.from_mp3(folderPath + '/' + file))\n",
    "\n",
    "\n",
    "print(\"Combining all sounds...\")\n",
    "combined = sounds[0]\n",
    "for i in range(1, len(sounds)):\n",
    "    combined = combined + sounds[i]\n",
    "\n",
    "\n",
    "print(\"Exporting audio...\")\n",
    "# First export at partial quality\n",
    "# Potentially decreasing audio size by half, last parameter is the quality of the audio. 8000 sounds bad, 16000 sounds fine\n",
    "# exportFile = combined.export(folderPath + '/' + exportFileName + \"_REDUCEDSIZE.mp3\", format = \"mp3\", parameters = [\"-ac\", \"2\", \"-ar\", \"16000\"])\n",
    "\n",
    "# Then export at full quality\n",
    "# try:\n",
    "#     exportFile = combined.export(folderPath + '/' + exportFileName + \".mp3\", format = \"mp3\")\n",
    "\n",
    "# except:\n",
    "#     print('Error occured...')\n",
    "#     print('Audio could not be exported, removing file...')\n",
    "#     os.remove(folderPath + '/' + exportFileName + \".mp3\")\n",
    "\n",
    "#     # Making a list of files for ffmpeg to concatenate\n",
    "#     exportListName = folderPath + \"/\" + exportFileName + \"_LIST.txt\"\n",
    "#     f = open(exportListName, \"w\")\n",
    "#     for fileName in allFileNamesWithMP3:\n",
    "#         f.write(\"file \\'\" + folderPath + \"/\" + fileName + \"\\'\" + \"\\n\")\n",
    "#     f.close()\n",
    "\n",
    "#     # Make a call for ffmpeg and run it using shell\n",
    "#     fileExportName = folderPath + \"/\" + exportFileName + \".mp3\"\n",
    "#     cmd_str = \"ffmpeg -f concat -safe 0 -i \" + exportListName + \" -c copy \" + fileExportName\n",
    "#     subprocess.run(cmd_str, shell = True)\n",
    "\n",
    "# Making a list of files for ffmpeg to concatenate\n",
    "exportListName = folderPath + \"/\" + exportFileName + \"_LIST.txt\"\n",
    "f = open(exportListName, \"w\")\n",
    "for fileName in allFileNamesWithMP3:\n",
    "    f.write(\"file \\'\" + folderPath + \"/\" + fileName + \"\\'\" + \"\\n\")\n",
    "f.close()\n",
    "\n",
    "# Make a call for ffmpeg and run it using shell\n",
    "fileExportName = folderPath + \"/\" + exportFileName + \".mp3\"\n",
    "cmd_str = \"ffmpeg -f concat -safe 0 -i \" + exportListName.replace(\" \", \"\\ \") + \" -c copy \" + fileExportName.replace(\" \", \"\\ \")\n",
    "print(cmd_str)\n",
    "p = subprocess.run(cmd_str, shell = True)\n",
    "\n",
    "count = 0\n",
    "sleepNum = 1\n",
    "while p.poll() == None:\n",
    "    time.sleep(sleepNum)\n",
    "    count += sleepNum\n",
    "    print(f\"Still processing... ({count} seconds)\")\n",
    "\n",
    "\n",
    "\n",
    "# print(\"Adding cover artwork to file...\")\n",
    "# audioFile = eyed3.load(folderPath + '/' + exportFileName + \".mp3\")\n",
    "# if audioFile.tag == None:\n",
    "#     audioFile.initTag()\n",
    "# audioFile.tag.images.set(ImageFrame.FRONT_COVER, open(folderPath + '/' + coverImage, 'rb').read(), 'image/jpeg')\n",
    "# audioFile.tag.save()\n",
    "\n",
    "print(\"Done.\")\n"
   ]
  },
  {
   "cell_type": "code",
   "execution_count": 7,
   "metadata": {},
   "outputs": [],
   "source": [
    "# Usefule Code\n",
    "\n",
    "\n",
    "# fileName = \"/Users/smerkley95/Desktop/Napoleon Hill - Think and Grow Rich - Unabridged Version/Napoleon Hill - Think and Grow Rich - Chapter 00 Part 1 (What Do You Want Most).mp3\"\n",
    "# song = AudioSegment.from_mp3(fileName)\n",
    "# play(song)"
   ]
  },
  {
   "cell_type": "code",
   "execution_count": 22,
   "metadata": {},
   "outputs": [
    {
     "name": "stdout",
     "output_type": "stream",
     "text": [
      "/Users/smerkley95/Desktop/TEST/The\\ Innovators\\ by\\ Walter\\ Isaacson.mp3\n"
     ]
    }
   ],
   "source": [
    "# You have to export the file names without spaces by changing spaces from \" \" to \"\\ \" 👍\n",
    "print(fileExportName.replace(\" \", \"\\ \"))"
   ]
  },
  {
   "cell_type": "code",
   "execution_count": null,
   "metadata": {},
   "outputs": [],
   "source": []
  }
 ],
 "metadata": {
  "kernelspec": {
   "display_name": "base",
   "language": "python",
   "name": "python3"
  },
  "language_info": {
   "codemirror_mode": {
    "name": "ipython",
    "version": 3
   },
   "file_extension": ".py",
   "mimetype": "text/x-python",
   "name": "python",
   "nbconvert_exporter": "python",
   "pygments_lexer": "ipython3",
   "version": "3.8.8"
  },
  "orig_nbformat": 4
 },
 "nbformat": 4,
 "nbformat_minor": 2
}
